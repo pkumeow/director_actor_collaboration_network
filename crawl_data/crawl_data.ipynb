{
 "cells": [
  {
   "cell_type": "code",
   "execution_count": 1,
   "metadata": {},
   "outputs": [],
   "source": [
    "import urllib.request\n",
    "import re\n",
    "from bs4 import BeautifulSoup\n",
    "import xlwt\n",
    "import requests\n",
    "import random\n",
    "import time\n",
    "import numpy as np\n",
    "import time\n",
    "import pandas as pd\n",
    "headers={\n",
    "    \"User-Agent\": \"Mozilla/5.0 (Macintosh; Intel Mac OS X 10_15_7) AppleWebKit/537.36 (KHTML, like Gecko) Chrome/93.0.4577.63 Safari/537.36 Edg/93.0.961.38\"\n",
    "}"
   ]
  },
  {
   "cell_type": "code",
   "execution_count": 7,
   "metadata": {},
   "outputs": [],
   "source": [
    "show_id=[]\n",
    "show_name=[]#名\n",
    "hot=[]#最高热度\n",
    "release_date=[]#上线时间\n",
    "piece_num=[]#集数\n",
    "platform_names=[]#平台\n",
    "category=[]#类型\n",
    "themetype=[]#题材\n",
    "director=[]#导演\n",
    "script_writer=[]#编剧\n",
    "actor_info=[]#演员信息\n",
    "publisher=[]#出品人\n",
    "publish_companies=[]#出品公司\n",
    "executive_producer=[]#监制\n",
    "produce_companies=[]#制作公司\n",
    "adapted_works=[]#改编自"
   ]
  },
  {
   "cell_type": "code",
   "execution_count": null,
   "metadata": {},
   "outputs": [],
   "source": [
    "for span in [range(12347,13000)]:#,range(23000,24000),range(24000,24600)]:\n",
    "    for p in span:#24600\n",
    "        print(\"p=\"+str(p))\n",
    "        baseurl=\"http://d.guduodata.com/m/show/detail/\"+str(p)\n",
    "        time.sleep(1)\n",
    "        response=requests.get(url=baseurl,headers=headers).json()\n",
    "        if \"code\" in response:\n",
    "            if response[\"code\"]==100:\n",
    "                pass\n",
    "        else:\n",
    "            show_id.append(p)\n",
    "            show_name.append(response['show_name'])#名\n",
    "            release_date.append(response['release_date'])#上线时间\n",
    "            piece_num.append(response['episode'])#集数\n",
    "            platform_names.append(response['platform_names'])#平台\n",
    "            category.append(response['category'])#类型\n",
    "            themetype.append(response['type'])#题材\n",
    "            director.append(response['director'])#导演\n",
    "            script_writer.append(response['script_writer'])#编剧\n",
    "            if response['actor_info'] !=None:\n",
    "                for i in range(len(response['actor_info'])):\n",
    "                    response['actor_info'][i]=[response['actor_info'][i]['actorName'],response['actor_info'][i]['actorId']]\n",
    "            actor_info.append(response['actor_info'])#演员信息\n",
    "            publisher.append(response['publisher'])#出品人\n",
    "            publish_companies.append(response['publishers'])#出品公司\n",
    "            executive_producer.append(response['executive_producer'])#监制\n",
    "            produce_companies.append(response['producers'])#制作公司\n",
    "            adapted_works.append(response['adapted_works_name'])#改编自\n",
    "            hot_baseurl=\"http://d.guduodata.com/m/v3/show/detail/gdiRadar?showId=\"+str(p)\n",
    "            time.sleep(1)\n",
    "            hot_response=requests.get(url=hot_baseurl,headers=headers).json()\n",
    "            if hot_response[\"code\"]!=100:\n",
    "                hot.append(hot_response['data']['top_gdi'])\n",
    "            else:\n",
    "                hot.append(np.nan)\n",
    "    data_set=pd.DataFrame({\"show_id\":show_id,'show_name':show_name,\n",
    "    'hot':hot,\n",
    "    'release_date':release_date,\n",
    "    'episode':piece_num,\n",
    "    'platform_names':platform_names,\n",
    "    'category':category,\n",
    "    'type':themetype,\n",
    "    'director':director,\n",
    "    'script_writer':script_writer,\n",
    "    'actor_info':actor_info,\n",
    "    'publisher':publisher,\n",
    "    'publishers':publish_companies,\n",
    "    'executive_producer':executive_producer,\n",
    "    'producers':produce_companies,\n",
    "    'adapted_works_name':adapted_works})\n",
    "    data_set.to_excel(\"showdata0.xlsx\")"
   ]
  }
 ],
 "metadata": {
  "kernelspec": {
   "display_name": "Python 3.8.12 ('base')",
   "language": "python",
   "name": "python3"
  },
  "language_info": {
   "codemirror_mode": {
    "name": "ipython",
    "version": 3
   },
   "file_extension": ".py",
   "mimetype": "text/x-python",
   "name": "python",
   "nbconvert_exporter": "python",
   "pygments_lexer": "ipython3",
   "version": "3.8.12"
  },
  "vscode": {
   "interpreter": {
    "hash": "ce52d5967f2bf7d082d78cf0be333a1d3d5d783093065ff125fc027cf3f1b0b9"
   }
  }
 },
 "nbformat": 4,
 "nbformat_minor": 4
}
